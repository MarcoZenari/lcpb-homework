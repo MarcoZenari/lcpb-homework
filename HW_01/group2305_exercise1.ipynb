{
 "cells": [
  {
   "cell_type": "markdown",
   "id": "429474c4",
   "metadata": {},
   "source": [
    "# Homework 1\n",
    "- Tommaso Bertola 2086990\n",
    "- Giacomo Di Prima 2086992\n",
    "- Giuseppe Viterbo 2086516\n",
    "- Marzo Zenari 2097012"
   ]
  },
  {
   "cell_type": "code",
   "execution_count": null,
   "id": "66eaad38",
   "metadata": {},
   "outputs": [],
   "source": []
  }
 ],
 "metadata": {
  "kernelspec": {
   "display_name": "Python 3 (ipykernel)",
   "language": "python",
   "name": "python3"
  },
  "language_info": {
   "codemirror_mode": {
    "name": "ipython",
    "version": 3
   },
   "file_extension": ".py",
   "mimetype": "text/x-python",
   "name": "python",
   "nbconvert_exporter": "python",
   "pygments_lexer": "ipython3",
   "version": "3.9.12"
  }
 },
 "nbformat": 4,
 "nbformat_minor": 5
}
