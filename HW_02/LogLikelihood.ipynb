{
 "cells": [
  {
   "cell_type": "code",
   "execution_count": 1,
   "id": "f97d2f31",
   "metadata": {},
   "outputs": [],
   "source": [
    "import numpy as np\n",
    "import itertools\n",
    "from numba import jit, prange"
   ]
  },
  {
   "cell_type": "code",
   "execution_count": 2,
   "id": "3af6da05",
   "metadata": {},
   "outputs": [],
   "source": [
    "n_encodings=4\n",
    "n_ammino=5\n",
    "n_h=3\n",
    "n_h_val=2"
   ]
  },
  {
   "cell_type": "code",
   "execution_count": 3,
   "id": "479820f9",
   "metadata": {},
   "outputs": [],
   "source": [
    "w=np.zeros((20,3))\n",
    "v=np.zeros(20)\n",
    "a=np.zeros(20)\n",
    "b=np.zeros(3)\n",
    "h=np.zeros(3)"
   ]
  },
  {
   "cell_type": "code",
   "execution_count": 4,
   "id": "70a41f21",
   "metadata": {},
   "outputs": [
    {
     "data": {
      "text/plain": [
       "(20, 3)"
      ]
     },
     "execution_count": 4,
     "metadata": {},
     "output_type": "execute_result"
    }
   ],
   "source": [
    "w.shape"
   ]
  },
  {
   "cell_type": "code",
   "execution_count": 5,
   "id": "af77317f",
   "metadata": {},
   "outputs": [],
   "source": [
    "M=np.zeros((10000,20))"
   ]
  },
  {
   "cell_type": "markdown",
   "id": "825ad719",
   "metadata": {},
   "source": [
    "$$E=-\\sum_{i,j} v_i w_{i,j} h_j-\\sum_i a_i v_i-\\sum_j b_j h_j$$\n",
    "$$p(v,h|a,b,w)=e^{-E(v,h|a,b,w)}/Z$$\n",
    "$$Z=\\sum_{\\{v,h\\}} e^{-E}$$\n",
    "$$\\mathcal{L}=M^{-1}\\sum_{i}^M ln\\big[p(v=v_i^{(M)}|a,b,w)\\big]$$\n",
    "$$\\mathcal{L}=M^{-1}\\left(\\sum_i^M{ln\\left[\\sum_{\\{h\\}}e^{-E[v_i,h|a,b,w]}\\right]}\\right) -ln Z$$"
   ]
  },
  {
   "cell_type": "code",
   "execution_count": 6,
   "id": "cc5f18b4",
   "metadata": {},
   "outputs": [],
   "source": [
    "def E(v, h, w, a, b):\n",
    "    return np.exp(np.dot(v, np.dot(w, h)))+np.exp(np.dot(a,v))+np.exp(np.dot(b,h))"
   ]
  },
  {
   "cell_type": "code",
   "execution_count": 7,
   "id": "d6eb43ec",
   "metadata": {},
   "outputs": [],
   "source": [
    "def P(v_data, possible_h, w, a, b):\n",
    "    p=0\n",
    "    for v_i in v_data:\n",
    "        sum_h=0\n",
    "        for h_j in possible_h:\n",
    "            sum_h+=np.exp(E(v_i, h_j, w, a, b))\n",
    "        p+=np.log(sum_h)\n",
    "    return p/v_data.shape[0]"
   ]
  },
  {
   "cell_type": "code",
   "execution_count": 8,
   "id": "07af05d5",
   "metadata": {},
   "outputs": [],
   "source": [
    "def Z(possible_v, possible_h, w, a, b):\n",
    "    z=0\n",
    "    for v_i in possible_v:\n",
    "        for h_j in possible_h:\n",
    "            z+=np.exp(E(v_i, h_j, w, a, b))\n",
    "    return z"
   ]
  },
  {
   "cell_type": "code",
   "execution_count": 9,
   "id": "29a1802e",
   "metadata": {},
   "outputs": [],
   "source": [
    "def Log(w, a, b):\n",
    "    return P(v_data, possible_h, w, a, b)-np.log(Z(possible_v, possible_h, w, a, b))"
   ]
  },
  {
   "cell_type": "code",
   "execution_count": 10,
   "id": "9bf3ada6",
   "metadata": {},
   "outputs": [],
   "source": [
    "#list all possible combinations of proteins\n",
    "possibilities_v=list(itertools.product(['1000','0100','0010','0001'], repeat=n_ammino))\n",
    "possibilities_h=list(itertools.product(['1','0'], repeat=n_h))\n",
    "\n",
    "possible_v=np.zeros((n_encodings**n_ammino, n_encodings*n_ammino))\n",
    "possible_h=np.zeros((n_h_val**n_h, n_h))\n",
    "\n",
    "#converts proteins to decimal representation\n",
    "for i,v in enumerate(possibilities_v):\n",
    "    possible_v[i]=np.array([int(i) for i in ''.join(v)])\n",
    "\n",
    "for i,h in enumerate(possibilities_h):\n",
    "    possible_h[i]=np.array([int(i) for i in ''.join(h)])"
   ]
  },
  {
   "cell_type": "code",
   "execution_count": 11,
   "id": "e1e1c941",
   "metadata": {},
   "outputs": [],
   "source": [
    "v_data=np.random.randn(10000,20)"
   ]
  },
  {
   "cell_type": "code",
   "execution_count": 12,
   "id": "5b465e51",
   "metadata": {},
   "outputs": [
    {
     "data": {
      "text/plain": [
       "-6.931471805599097"
      ]
     },
     "execution_count": 12,
     "metadata": {},
     "output_type": "execute_result"
    }
   ],
   "source": [
    "Log(w, a, b)"
   ]
  }
 ],
 "metadata": {
  "kernelspec": {
   "display_name": "Python 3 (ipykernel)",
   "language": "python",
   "name": "python3"
  },
  "language_info": {
   "codemirror_mode": {
    "name": "ipython",
    "version": 3
   },
   "file_extension": ".py",
   "mimetype": "text/x-python",
   "name": "python",
   "nbconvert_exporter": "python",
   "pygments_lexer": "ipython3",
   "version": "3.9.16"
  }
 },
 "nbformat": 4,
 "nbformat_minor": 5
}
