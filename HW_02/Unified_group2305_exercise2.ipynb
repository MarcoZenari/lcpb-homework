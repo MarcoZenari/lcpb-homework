{
 "cells": [
  {
   "cell_type": "code",
   "execution_count": 1,
   "id": "61ece727",
   "metadata": {
    "tags": []
   },
   "outputs": [],
   "source": [
    "import numpy as np\n",
    "import matplotlib.pyplot as plt\n",
    "from matplotlib.ticker import NullFormatter\n",
    "import pandas as pd\n",
    "import itertools\n",
    "\n",
    "plt.rcParams['font.size'] = 14"
   ]
  },
  {
   "cell_type": "markdown",
   "id": "328c90ce",
   "metadata": {},
   "source": [
    "# Training  \n",
    "In the training part we define the python class `boltzmanmachine`, the data selection, and the network parameters.The boltzman machine has been trained with temperatures that range from 0.05 to 0.5. The weights and bias obtained by the training algorithm are stored in `.npz` files to easily access them in the fantasy particles generation algorithm. As a consistency check we introduced the LogLikelihood method."
   ]
  },
  {
   "cell_type": "markdown",
   "id": "d4dd4f1e",
   "metadata": {},
   "source": [
    "## Boltzmann machine class "
   ]
  },
  {
   "cell_type": "code",
   "execution_count": 2,
   "id": "919d8ebd",
   "metadata": {},
   "outputs": [],
   "source": [
    "class boltzmanmachine:\n",
    "    \n",
    "    def __init__(self, L, M, sigma, De=2, vmin=-1, spin=True):\n",
    "        '''\n",
    "        Initialize the object with defaults parameter which are determined by\n",
    "        meta reciew.\n",
    "        w: network weights\n",
    "        a: visible bias\n",
    "        b: hidden bias\n",
    "        spin: set the notation used by the model, (0,1) or (-1,1)\n",
    "        DE: energy separation among the two possible states allowed in the positive phases, 1 or 2\n",
    "        vmin: minimum value of the representation\n",
    "        '''\n",
    "        self.w = np.random.normal(loc=0.0, scale=sigma, size=(L,M))\n",
    "        self.a = np.random.normal(loc=0.0, scale=sigma, size=L)\n",
    "        self.b = b = np.zeros(M)\n",
    "        self.h = np.zeros(M)\n",
    "        \n",
    "        self.spin=spin\n",
    "        \n",
    "        self.DE = De\n",
    "        self.L = int(L)\n",
    "        self.M = int(M)\n",
    "        self.vmin=vmin\n",
    "        \n",
    "        self.v_data, self.v_model = None, None\n",
    "        self.h_data, self.h_model = None, None\n",
    "        self.vh_data,self.vh_model= None, None\n",
    "        \n",
    "        #one hot encoding of the four possible states\n",
    "        if self.spin:\n",
    "            self.csi1 = np.array([1,-1,-1,-1])    \n",
    "            self.csi2 = np.array([-1,1,-1,-1])   \n",
    "            self.csi3 = np.array([-1,-1,1,-1])    \n",
    "            self.csi4 = np.array([-1,-1,-1,1])  \n",
    "        else:\n",
    "            self.csi1 = np.array([1,0,0,0])    \n",
    "            self.csi2 = np.array([0,1,0,0])   \n",
    "            self.csi3 = np.array([0,0,1,0])    \n",
    "            self.csi4 = np.array([0,0,0,1]) \n",
    "            \n",
    "        self.csi = [self.csi1, self.csi2, self.csi3, self.csi4]\n",
    "        \n",
    "        #algotithm variables\n",
    "        self.sa_t0 = 0\n",
    "        self.sb_t0 = 0\n",
    "        self.sw_t0 = 0\n",
    "        \n",
    "        self.ma_t0 = 0\n",
    "        self.mb_t0 = 0\n",
    "        self.mw_t0 = 0\n",
    "        \n",
    "        self.batch_counter = 0\n",
    "        \n",
    "    def load_model(self, file_name):\n",
    "        model = np.load(file_name)\n",
    "        \n",
    "        self.w = model['w']\n",
    "        self.a = model['a']\n",
    "        self.b = model['b']\n",
    "        \n",
    "        \n",
    "        \n",
    "    def save_model(self, file_name):\n",
    "        np.savez(file_name, a=self.a, b=self.b, w=self.w)\n",
    "        \n",
    "        \n",
    "        \n",
    "    def init_avg(self):\n",
    "        '''\n",
    "        Set  to zero the averages quantities needed to compute the gradien\n",
    "        '''\n",
    "        self.v_data, self.v_model = np.zeros(self.L),np.zeros(self.L)\n",
    "        self.h_data, self.h_model = np.zeros(self.M),np.zeros(self.M)\n",
    "        self.vh_data,self.vh_model= np.zeros((self.L,self.M)),np.zeros((self.L,self.M))\n",
    "        \n",
    "        \n",
    "        \n",
    "    def positive(self, v_in, Amp=1.):\n",
    "        '''\n",
    "        Positive phase of the training\n",
    "        Visible -> Hidden\n",
    "        No one-hot encoding needed\n",
    "        '''\n",
    "        act = np.dot(v_in, self.w) + self.b      \n",
    "        #print(act)\n",
    "        argument=np.exp(-Amp*self.DE*act)\n",
    "        prob = 1. / (1. + argument)\n",
    "        n = np.shape(act)\n",
    "        h = np.full(n, self.vmin, dtype=int) # a list on -1's or 0's\n",
    "        h[np.random.random_sample(n) < prob] = 1\n",
    "        \n",
    "        return h\n",
    "    \n",
    "    def neg(self, h_in, Amp=1.):\n",
    "        '''\n",
    "        Negative phase of the training\n",
    "        Hidden -> Visible\n",
    "        No one-hot encoding needed\n",
    "        '''\n",
    "        act = np.dot(h_in, self.w.T) + self.a      \n",
    "        #print(act)\n",
    "        prob = 1. / (1. + np.exp(-Amp*self.DE*act))\n",
    "        n = np.shape(act)\n",
    "        vf = np.full(n, self.vmin, dtype=int) # a list on -1's or 0's\n",
    "        vf[np.random.random_sample(n) < prob] = 1\n",
    "        \n",
    "        return vf\n",
    "    \n",
    "    \n",
    "    def negative(self, h_in, Amp=1.):\n",
    "        '''\n",
    "        Negative phase of the training\n",
    "        Hidden -> Visible\n",
    "        With ne-hot encoding needed\n",
    "        '''\n",
    "        \n",
    "        weigths = np.reshape(np.dot(h_in, self.w.T) + self.a, (5,4) ) \n",
    "\n",
    "        \n",
    "        E1 = np.dot(weigths, self.csi1) #array of length 5, the number of amminoacids\n",
    "        E2 = np.dot(weigths, self.csi2)\n",
    "        E3 = np.dot(weigths, self.csi3)\n",
    "        E4 = np.dot(weigths, self.csi4)\n",
    "        \n",
    "\n",
    "\n",
    "        Z = np.exp(-Amp*E1) + np.exp(-Amp*E2) + np.exp(-Amp*E3) + np.exp(-Amp*E4) #partition function for each amminoacid\n",
    "        \n",
    "        p1 = np.exp(-Amp*E1)/Z \n",
    "        p2 = np.exp(-Amp*E2)/Z\n",
    "        p3 = np.exp(-Amp*E3)/Z\n",
    "        p4 = np.exp(-Amp*E4)/Z\n",
    "        \n",
    "        \n",
    "        \n",
    "        p = np.reshape(np.concatenate((p1, p2, p3, p4)), (4, 5))      \n",
    "\n",
    "        \n",
    "        cum = np.cumsum(p, axis=0) #(4x5) containing the comulatives  \n",
    "        r = np.random.random(size=5)        \n",
    "        \n",
    "        mask = cum < r    \n",
    "        indx = []    \n",
    "        \n",
    "        for i in range(mask.shape[1]):\n",
    "            __, index = np.unique(mask[:, i], return_index=True)\n",
    "            indx.append(index[0])\n",
    "            \n",
    "        vf=np.concatenate((self.csi[indx[0]], self.csi[indx[1]], self.csi[indx[2]], self.csi[indx[3]], self.csi[indx[4]]))\n",
    "        return vf\n",
    "        \n",
    "    \n",
    "    def update_vh(self, v_k, vf, h, hf, mini):\n",
    "        '''\n",
    "        Update the averages needed to compute the gradient\n",
    "        '''\n",
    "        self.v_data  += v_k/mini\n",
    "        self.v_model += vf/mini\n",
    "        self.h_data  += h/mini\n",
    "        self.h_model += hf/mini\n",
    "        self.vh_data += np.outer(v_k.T,h)/mini\n",
    "        self.vh_model+= np.outer(vf.T,hf)/mini\n",
    "    \n",
    "    def SGD(self, l_rate_m):\n",
    "        '''\n",
    "        Stochastic gradient descent algorithm\n",
    "        '''\n",
    "        dw = l_rate_m*(self.vh_data - self.vh_model)\n",
    "        da = l_rate_m*(self.v_data - self.v_model)\n",
    "        db = l_rate_m*(self.h_data - self.h_model)\n",
    "        \n",
    "        self.w += dw\n",
    "        self.a += da\n",
    "        self.b += db\n",
    "        \n",
    "    def RMSprop(self, eta_t, beta=0.9, epsilon=1e-8):\n",
    "        '''\n",
    "        RMSprop algorithm\n",
    "        '''\n",
    "        ga_t = self.v_data - self.v_model\n",
    "        gb_t = self.h_data - self.h_model\n",
    "        gw_t = self.vh_data - self.vh_model\n",
    "        \n",
    "        sa_t = beta*self.sa_t0 + (1-beta)*ga_t**2\n",
    "        sb_t = beta*self.sb_t0 + (1-beta)*gb_t**2\n",
    "        sw_t = beta*self.sw_t0 + (1-beta)*gw_t**2\n",
    "        \n",
    "        self.sa_t0 = sa_t\n",
    "        self.sb_t0 = sb_t\n",
    "        self.sw_t0 = sw_t\n",
    "        \n",
    "        \n",
    "        self.a = self.a + eta_t*ga_t/np.sqrt(sa_t + epsilon)\n",
    "        self.b = self.b + eta_t*gb_t/np.sqrt(sb_t + epsilon)\n",
    "        self.w = self.w + eta_t*gw_t/np.sqrt(sw_t + epsilon)\n",
    "        \n",
    "        \n",
    "    def ADAM(self, eta_t, epoch, beta1=0.9, beta2=0.99,epsilon=1e-8):\n",
    "        '''\n",
    "        ADAM algorithm\n",
    "        '''\n",
    "        ga_t = self.v_data - self.v_model\n",
    "        gb_t = self.h_data - self.h_model\n",
    "        gw_t = self.vh_data - self.vh_model\n",
    "\n",
    "        ma_t = beta1*self.ma_t0 + (1-beta1)*ga_t\n",
    "        mb_t = beta1*self.mb_t0 + (1-beta1)*gb_t\n",
    "        mw_t = beta1*self.mw_t0 + (1-beta1)*gw_t\n",
    "\n",
    "        sa_t = beta2*self.sa_t0 + (1-beta2)*ga_t**2\n",
    "        sb_t = beta2*self.sb_t0 + (1-beta2)*gb_t**2\n",
    "        sw_t = beta2*self.sw_t0 + (1-beta2)*gw_t**2\n",
    "\n",
    "        self.sa_t0 = sa_t\n",
    "        self.sb_t0 = sb_t\n",
    "        self.sw_t0 = sw_t\n",
    "\n",
    "        self.ma_t0 = ma_t\n",
    "        self.mb_t0 = mb_t\n",
    "        self.mw_t0 = mw_t\n",
    "\n",
    "        ma_t_hat = ma_t/(1-beta1**epoch) \n",
    "        mb_t_hat = mb_t/(1-beta1**epoch) \n",
    "        mw_t_hat = mw_t/(1-beta1**epoch)\n",
    "\n",
    "        sa_t_hat = sa_t/(1-beta2**epoch) \n",
    "        sb_t_hat = sb_t/(1-beta2**epoch) \n",
    "        sw_t_hat = sw_t/(1-beta2**epoch)\n",
    "\n",
    "        self.a = self.a + eta_t*ma_t_hat/(np.sqrt(sa_t_hat) + epsilon)\n",
    "        self.b = self.b + eta_t*mb_t_hat/(np.sqrt(sb_t_hat) + epsilon)\n",
    "        self.w = self.w + eta_t*mw_t_hat/(np.sqrt(sw_t_hat) + epsilon)\n",
    "        \n",
    "    def train(self, data, learning_rate, batch_size, n_contrastive_div, Amp_training, Algorithm, epoch=1):\n",
    "        \n",
    "        if self.batch_counter == 0:\n",
    "            self.init_avg()\n",
    "            \n",
    "        v_k = np.copy(data)\n",
    "        vf = np.copy(data)\n",
    "        \n",
    "        for i in np.arange(n_contrastive_div):\n",
    "            h = self.positive(vf, Amp_training)\n",
    "            vf = self.negative(h, Amp_training)\n",
    "        hf = self.positive(vf, Amp_training)\n",
    "        self.h = np.copy(h)\n",
    "        \n",
    "        self.update_vh(v_k, vf, h, hf, batch_size)\n",
    "        \n",
    "        self.batch_counter += 1\n",
    "        \n",
    "        if self.batch_counter == batch_size:\n",
    "            if Algorithm == 'SGD':\n",
    "                self.SGD(learning_rate)\n",
    "            if Algorithm == 'RMSprop':\n",
    "                self.RMSprop(learning_rate)\n",
    "            if Algorithm == 'Adam':\n",
    "                self.ADAM(l_rate, epoch+1)\n",
    "                \n",
    "            self.batch_counter = 0\n",
    "\n",
    "\n",
    "    def gen_fantasy(self, data, Amp_gen):\n",
    "        \n",
    "        vf = np.zeros_like(data)\n",
    "        N = data.shape[0]\n",
    "        \n",
    "        for k in range(N):\n",
    "            # positive CD phase: generating h \n",
    "            h = self.positive(data[k],Amp_gen)\n",
    "            # negative CD phase: generating fantasy vf with low T == large GAP\n",
    "            vf[k] = self.negative(h,Amp_gen)\n",
    "            \n",
    "        return vf\n"
   ]
  },
  {
   "cell_type": "markdown",
   "id": "9ec8a372",
   "metadata": {},
   "source": [
    "## Data selection"
   ]
  },
  {
   "cell_type": "code",
   "execution_count": 3,
   "id": "8bfb101a",
   "metadata": {},
   "outputs": [],
   "source": [
    "dname=\"DATA_b\"\n",
    "\n",
    "fname=dname+'/x_RBM_q0.1.dat'\n",
    "v = np.loadtxt(fname, delimiter=\" \",dtype=int)\n",
    "v0 = np.copy(v)  #Copy original data to analyse later"
   ]
  },
  {
   "cell_type": "markdown",
   "id": "07d96519",
   "metadata": {},
   "source": [
    "## Network parameters"
   ]
  },
  {
   "cell_type": "code",
   "execution_count": 4,
   "id": "3f9755ab",
   "metadata": {
    "scrolled": false
   },
   "outputs": [
    {
     "name": "stdout",
     "output_type": "stream",
     "text": [
      "each of N=10000 data has L=20 digits\n",
      "The network has 20 visible units and 3 hidden units\n",
      "Initializing std 0.41702882811414954\n"
     ]
    }
   ],
   "source": [
    "N = len(v)       #Number of rows\n",
    "L = len(v[0])    #Set the number of visible variable\n",
    "M = 3            #Set the number of hidden units\n",
    "\n",
    "sigma = np.sqrt(4. / float(L + M))\n",
    "\n",
    "print(f'each of N={N} data has L={L} digits')\n",
    "print(f'The network has {L} visible units and {M} hidden units')\n",
    "print(f'Initializing std {sigma}')"
   ]
  },
  {
   "cell_type": "markdown",
   "id": "61d3cb19",
   "metadata": {},
   "source": [
    "## Defining training parameters"
   ]
  },
  {
   "cell_type": "code",
   "execution_count": 5,
   "id": "4774adb0",
   "metadata": {},
   "outputs": [],
   "source": [
    "seed = 1      #set the random seed in order to reproduce results \n",
    "Amp_training  = 0.05      #set the coefficient that multiply the temp, Higher Amp -> Lower Temp\n",
    "cdn  = 1        #set the number of phases\n",
    "\n",
    "\n",
    "n_epochs = 200   #set the number of epochs\n",
    "\n",
    "\n",
    "spin = True      #chose the kind of representation\n",
    "\n",
    "if spin:\n",
    "    GAP=2        #sigmoid takes into account energy difference =2\n",
    "    v = 2*v - 1  #convert 0,1 -> -1,1\n",
    "    vmin=-1\n",
    "else:\n",
    "    GAP=1\n",
    "    vmin=0\n",
    "    \n",
    "Algorithm = 'RMSprop'\n",
    "\n",
    "#amp_list = [0.05, 0.10, 0.15, 0.2, 0.25, 0.3, 0.35, 0.4, 0.45, 0.5]\n",
    "amp_list = [1]"
   ]
  },
  {
   "cell_type": "markdown",
   "id": "2d9c424e",
   "metadata": {},
   "source": [
    "## LogLikelihood"
   ]
  },
  {
   "cell_type": "code",
   "execution_count": 6,
   "id": "3843d0cf",
   "metadata": {},
   "outputs": [],
   "source": [
    "def E(v, h, w, a, b):\n",
    "    return -(np.dot(v, np.dot(w, h))+np.dot(a,v)+np.dot(b,h))\n",
    "\n",
    "def P(v_data, possible_h, w, a, b):\n",
    "    p=0\n",
    "    for v_i in v_data:\n",
    "        sum_h=0\n",
    "        for h_j in possible_h:\n",
    "            sum_h-=np.exp(E(v_i, h_j, w, a, b))\n",
    "        p+=np.log(sum_h)\n",
    "    return p/v_data.shape[0]\n",
    "\n",
    "def Z(possible_v, possible_h, w, a, b):\n",
    "    z=0\n",
    "    for v_i in possible_v:\n",
    "        for h_j in possible_h:\n",
    "            z+=np.exp(E(v_i, h_j, w, a, b))\n",
    "    return z\n",
    "\n",
    "def Log(w, a, b):\n",
    "    return - (P(v_data, possible_h, w, a, b)-np.log(Z(possible_v, possible_h, w, a, b)))\n",
    "\n",
    "def Log_2(w,h_current,a,b):\n",
    "    '''\n",
    "    New definition of Log Likelihood\n",
    "    needs the current state of hidden variables as input\n",
    "    returns the current value of the loglikelihood\n",
    "    avg_en is the simple arithmetic energy for each epoch\n",
    "    eq. 189 of mehta for reference\n",
    "    '''\n",
    "    avg_en=0\n",
    "    for v_i in v_data:\n",
    "        avg_en+=E(v_i, h_current, w, a, b )\n",
    "    return -avg_en/(v_data.shape[0])-np.log(Z(possible_v, possible_h, w, a, b))\n"
   ]
  },
  {
   "cell_type": "code",
   "execution_count": 7,
   "id": "9851ab4a",
   "metadata": {},
   "outputs": [],
   "source": [
    "v_data = v\n",
    "# parameters of the simulation\n",
    "n_encodings = 4\n",
    "n_ammino = 5\n",
    "n_h = M\n",
    "n_h_val = 2\n",
    "\n",
    "#this code should be run only once\n",
    "#possibile_* has to be available to all the functions as global variables\n",
    "#possibile_* never change\n",
    "\n",
    "#list all possible combinations of proteins\n",
    "possibilities_v=list(itertools.product(['1000','0100','0010','0001'], repeat=n_ammino))\n",
    "possibilities_h=list(itertools.product(['1','0'], repeat=n_h))\n",
    "\n",
    "possible_v=np.zeros((n_encodings**n_ammino, n_encodings*n_ammino))\n",
    "possible_h=np.zeros((n_h_val**n_h, n_h))\n",
    "\n",
    "#converts proteins to decimal representation\n",
    "for i,v_i in enumerate(possibilities_v):\n",
    "    possible_v[i]=np.array([int(i) for i in ''.join(v_i)])\n",
    "\n",
    "for i,h_i in enumerate(possibilities_h):\n",
    "    possible_h[i]=np.array([int(i) for i in ''.join(h_i)])"
   ]
  },
  {
   "cell_type": "markdown",
   "id": "821af14b",
   "metadata": {},
   "source": [
    "## Model Training\n",
    "In this part we compute the Loglikelihood value at every epoc and we plot the weights obtained by the training algorithm every ten epochs."
   ]
  },
  {
   "cell_type": "code",
   "execution_count": 8,
   "id": "9b0d9668",
   "metadata": {
    "scrolled": true
   },
   "outputs": [
    {
     "name": "stdout",
     "output_type": "stream",
     "text": [
      "===================================================\n",
      "1 0123456789101112131415161718192021222324252627282930313233343536373839404142434445464748495051525354555657585960616263646566676869707172737475767778798081828384858687888990919293949596979899100101102103104105106107108109110111112113114115116117118119120121122123124125126127128129130131132133134135136137138139140141142143144145146147148149150151152153154155156157158159160161162163164165166167168169170171172173174175176177178179180181182183184185186187188189190191192193194195196197198"
     ]
    },
    {
     "data": {
      "image/png": "[encoded data removed]",
      "text/plain": [
       "<Figure size 1600x240 with 2 Axes>"
      ]
     },
     "metadata": {},
     "output_type": "display_data"
    },
    {
     "name": "stdout",
     "output_type": "stream",
     "text": [
      "200\n",
      "199 \t ...Done!\n"
     ]
    }
   ],
   "source": [
    "# random seed for reproducibility\n",
    "np.random.seed(seed)\n",
    "\n",
    "# learning rate\n",
    "l_rate = 1e-3\n",
    "\n",
    "# minibatch\n",
    "mini_batch = 500\n",
    "\n",
    "#Loglikelihood\n",
    "Loglikelihood_calculation = True\n",
    "Loglikelihood = np.zeros((len(amp_list), n_epochs))\n",
    "\n",
    "# train model\n",
    "print('===================================================')\n",
    "for i, amp in enumerate(amp_list):\n",
    "    \n",
    "    rbm = boltzmanmachine(L,M,sigma,vmin=vmin, spin=spin)\n",
    "    print(amp, end=' ')\n",
    "    Loglikelihood = np.zeros(n_epochs)\n",
    "    for epoch in range(n_epochs):\n",
    "        # aggregate normalization of batch statistics and learning rate\n",
    "        for k in range(N):\n",
    "            rbm.train(data=v[k],\n",
    "                      learning_rate=l_rate,\n",
    "                      batch_size=mini_batch,\n",
    "                      n_contrastive_div=cdn,\n",
    "                      Amp_training=amp,\n",
    "                      Algorithm=Algorithm)\n",
    "            \n",
    "        #Loglikelihood\n",
    "        if Loglikelihood_calculation==True:\n",
    "            h_loglikelihood = np.zeros((10000,3))\n",
    "            for j in range(N):\n",
    "                h_loglikelihood[j] = rbm.positive(v_data[j], Amp=amp)\n",
    "                \n",
    "            E_var = 0\n",
    "            for i, h_i in enumerate(h_loglikelihood):\n",
    "                E_var += -(np.dot(v_data[i], np.dot(rbm.w, h_i))+np.dot(rbm.a,v_data[i])+np.dot(rbm.b,h_i))\n",
    "            mean_E = E_var/N\n",
    "            Z_var = Z(possible_v, possible_h, rbm.w, rbm.a, rbm.b)\n",
    "            Loglikelihood[epoch] = - mean_E - np.log(Z_var) \n",
    "\n",
    "        # randomize the order of input data\n",
    "        np.random.shuffle(v)\n",
    "        if epoch==n_epochs-1:\n",
    "            plt.matshow(rbm.w.T)\n",
    "            plt.colorbar()\n",
    "            plt.show()\n",
    "            print(epoch+1)\n",
    "        print(epoch, end='')\n",
    "    \n",
    "    if spin:\n",
    "        file_name='Models/'+str(Algorithm)+'_'+str(amp).replace('.','')+'_'+str(cdn)+'_spin'+'.npz'\n",
    "    else:\n",
    "        file_name='Models/'+str(Algorithm)+'_'+str(amp).replace('.','')+'_'+str(cdn)+'.npz'\n",
    "    rbm.save_model(file_name)\n",
    "\n",
    "    print(' \\t ...Done!')\n",
    "    "
   ]
  },
  {
   "cell_type": "markdown",
   "id": "c2bc4a4c",
   "metadata": {},
   "source": [
    "## Loglikelihood results\n",
    "The Loglikelihod is plotted as a function of the epochs for every training amplitude."
   ]
  },
  {
   "cell_type": "code",
   "execution_count": 9,
   "id": "10da405b",
   "metadata": {},
   "outputs": [
    {
     "name": "stdout",
     "output_type": "stream",
     "text": [
      "(200,)\n"
     ]
    },
    {
     "data": {
      "image/png": "[encoded data removed]",
      "text/plain": [
       "<Figure size 640x480 with 1 Axes>"
      ]
     },
     "metadata": {},
     "output_type": "display_data"
    }
   ],
   "source": [
    "epochs_list = np.arange(n_epochs)\n",
    "# plt.plot(epochs_list, Loglikelihood)\n",
    "# plt.xlabel('Epoch')\n",
    "# plt.ylabel('Loglikelihood')\n",
    "# plt.grid(linestyle='dotted')\n",
    "# #plt.legend(loc='lower right')\n",
    "# plt.show()\n",
    "print(Loglikelihood.shape)\n",
    "#for i, amp in enumerate(amp_list):\n",
    "    #print('amp:', amp)\n",
    "    #plt.plot(epochs_list, np.reshape(Loglikelihood, (10,100))[i], label=f'{amp}')\n",
    "    #plt.plot(epochs_list, Loglikelihood, label=f'{amp}')\n",
    "plt.plot(epochs_list, Loglikelihood, label=f'{amp}')\n",
    "    \n",
    "plt.xlabel('Epoch')\n",
    "plt.ylabel('Loglikelihood')\n",
    "plt.grid(linestyle='dotted')\n",
    "plt.legend(loc='lower left')\n",
    "plt.savefig('Loglikelihood.png')\n",
    "plt.show()\n"
   ]
  },
  {
   "cell_type": "markdown",
   "id": "732e9550",
   "metadata": {},
   "source": [
    "# Analysis \n",
    "In this part, we generate the fantasy particles using generation amplitudes that range from 0.05 to 0.5. In order to evaluate the perfomance of our Boltzman machine trained at different temperatures we introduce the Jensesn-Shannon (JS) divergence as a metric. We plot the heatmaps of the JS divergence to chose the best combiantion amplitudes."
   ]
  },
  {
   "cell_type": "markdown",
   "id": "03281622",
   "metadata": {},
   "source": [
    "### Create a list with the file names containing the trained models"
   ]
  },
  {
   "cell_type": "code",
   "execution_count": null,
   "id": "9889b104",
   "metadata": {},
   "outputs": [],
   "source": [
    "if spin:\n",
    "\n",
    "    models = ['Models/RMSprop_005_1_spin.npz',\n",
    "                  'Models/RMSprop_01_1_spin.npz',\n",
    "                  'Models/RMSprop_015_1_spin.npz',\n",
    "                  'Models/RMSprop_02_1_spin.npz',\n",
    "                  'Models/RMSprop_025_1_spin.npz',\n",
    "                  'Models/RMSprop_03_1_spin.npz',\n",
    "                  'Models/RMSprop_035_1_spin.npz',\n",
    "                  'Models/RMSprop_04_1_spin.npz',\n",
    "                  'Models/RMSprop_045_1_spin.npz',\n",
    "                  'Models/RMSprop_05_1_spin.npz']\n",
    "    vmin= -1\n",
    "\n",
    "else:\n",
    "    models = ['Models/RMSprop_005_1.npz',\n",
    "                  'Models/RMSprop_01_1.npz',\n",
    "                  'Models/RMSprop_015_1.npz',\n",
    "                  'Models/RMSprop_02_1.npz',\n",
    "                  'Models/RMSprop_025_1.npz',\n",
    "                  'Models/RMSprop_03_1.npz',\n",
    "                  'Models/RMSprop_035_1.npz',\n",
    "                  'Models/RMSprop_04_1.npz',\n",
    "                  'Models/RMSprop_045_1.npz',\n",
    "                  'Models/RMSprop_05_1.npz']\n",
    "    vmin=0\n",
    "\n",
    "amp_list = [0.05, 0.10, 0.15, 0.2, 0.25, 0.3, 0.35, 0.4, 0.45, 0.5]"
   ]
  },
  {
   "cell_type": "markdown",
   "id": "ed9b9a70",
   "metadata": {},
   "source": [
    "## PDF \n",
    "Probability distribution function of the possible proteins obtanable from the one-hot encoding representation of the 5 amminoacids.  "
   ]
  },
  {
   "cell_type": "code",
   "execution_count": null,
   "id": "9364b008",
   "metadata": {},
   "outputs": [],
   "source": [
    "def convert_to_decimal_protein(v):\n",
    "    '''\n",
    "    Convert the raw protein list of strings of 1s and 0s \n",
    "    to binary numbers\n",
    "    '''\n",
    "    protein_list = np.copy(v).astype(str)\n",
    "    proteins_dataset = np.zeros(protein_list.shape[0]).astype(int)\n",
    "\n",
    "    for k in np.arange(protein_list.shape[0]):\n",
    "        proteins_dataset[k] = int(''.join(protein_list[k]),2)\n",
    "        \n",
    "    return list(proteins_dataset)\n",
    "\n",
    "def return_protein_probabilities(decimal_proteins_list, n_amminoacids=5):\n",
    "    '''\n",
    "    Returns a pdf. Each element of the returned vector\n",
    "    represents the probability of each one of the 4^5 proteins\n",
    "    in the list passed to the function.\n",
    "    \n",
    "    The output vector length is always 4^5=1024, independently of\n",
    "    the input proteins list passed as input.\n",
    "    '''\n",
    "    #number of amminoacids in the protein\n",
    "    n_ammino=n_amminoacids\n",
    "    \n",
    "    #total number of preteins, to normalize the pdf\n",
    "    n_proteins=len(decimal_proteins_list)\n",
    "\n",
    "    #encoding of amminoacids\n",
    "    v1,v2,v3,v4=np.eye(4)\n",
    "\n",
    "    #list all possible combinations of proteins\n",
    "    possibilities=list(itertools.product(['1000','0100','0010','0001'],\n",
    "                                         repeat=n_ammino))\n",
    "\n",
    "    #converts proteins to decimal representation\n",
    "    decimal=list()\n",
    "    for p in possibilities:\n",
    "        decimal.append(int(''.join(p),2))\n",
    "\n",
    "    #sort the representation from bigger to smaller values\n",
    "    decimal.sort(reverse=True)\n",
    "\n",
    "    #initialize a dict with proteins as keys\n",
    "    protein_cnt=dict.fromkeys(decimal,0)\n",
    "\n",
    "    #counts the number of times the protein was found\n",
    "    for protein in decimal_proteins_list:\n",
    "        protein_cnt[protein]+=1 \n",
    "\n",
    "    #return the ordered list of \n",
    "    #normalized probabilities for each possible protein\n",
    "    norm_prob=np.array(list(protein_cnt.values()))/n_proteins\n",
    "    \n",
    "    return norm_prob\n"
   ]
  },
  {
   "cell_type": "markdown",
   "id": "93305c63",
   "metadata": {},
   "source": [
    "## Computing the empirical probability distribution of our data"
   ]
  },
  {
   "cell_type": "code",
   "execution_count": null,
   "id": "3146b32e",
   "metadata": {
    "scrolled": true
   },
   "outputs": [],
   "source": [
    "proteins_dataset0=convert_to_decimal_protein(v0)\n",
    "Q=return_protein_probabilities(proteins_dataset0)\n",
    "\n",
    "print('Len protein dataset: ',len(proteins_dataset0))\n",
    "print('Len p_dataset: ', len(Q))\n",
    "print('Norm p_dataset: ', Q.sum())"
   ]
  },
  {
   "cell_type": "markdown",
   "id": "421ce4be",
   "metadata": {},
   "source": [
    "## Importing the JS divergence \n",
    "The JS divergence is used to compute the distance between the probability distributions of the data and the fantasy particles obtained for each training and generation amplitudes."
   ]
  },
  {
   "cell_type": "code",
   "execution_count": null,
   "id": "ad38f4ed",
   "metadata": {},
   "outputs": [],
   "source": [
    "from scipy.spatial.distance import jensenshannon"
   ]
  },
  {
   "cell_type": "markdown",
   "id": "53a6ba33",
   "metadata": {},
   "source": [
    "## Computing the Jensen-Shannon divergence for different training and generetion amplitude "
   ]
  },
  {
   "cell_type": "code",
   "execution_count": null,
   "id": "7091db13",
   "metadata": {},
   "outputs": [],
   "source": [
    "js_values = np.zeros((len(models), len(models)))"
   ]
  },
  {
   "cell_type": "code",
   "execution_count": null,
   "id": "d1588b8c",
   "metadata": {},
   "outputs": [],
   "source": [
    "for i, model in enumerate(models):\n",
    "    print(f'{model}:', end='\\t')\n",
    "    for k, amp in enumerate(amp_list):\n",
    "\n",
    "        np.random.seed(seed)\n",
    "        rbm = boltzmanmachine(L,M,sigma, vmin=vmin, spin=spin)\n",
    "        rbm.load_model(model)\n",
    "        \n",
    "        vf = rbm.gen_fantasy(v, amp)\n",
    "        vf = ((vf+1)/2).astype(int)\n",
    "              \n",
    "        proteins_dataset=convert_to_decimal_protein(vf)\n",
    "        p_dataset=return_protein_probabilities(proteins_dataset)\n",
    "        js_values[i,k] = jensenshannon(p_dataset, Q)\n",
    "         \n",
    "        print('.', end='')\n",
    "    print( ' done')"
   ]
  },
  {
   "cell_type": "markdown",
   "id": "3c632d1d",
   "metadata": {},
   "source": [
    "### Storing Jensen-Shannon divergence values "
   ]
  },
  {
   "cell_type": "code",
   "execution_count": null,
   "id": "63f7a4e9",
   "metadata": {},
   "outputs": [],
   "source": [
    "if spin:\n",
    "    s='_spin'\n",
    "else:\n",
    "    s=''\n",
    "np.savez('Models/Metrics'+s+'.npz', js=js_values)"
   ]
  },
  {
   "cell_type": "markdown",
   "id": "924bb94c",
   "metadata": {},
   "source": [
    "## Plot the heatmap for the JS divergence"
   ]
  },
  {
   "cell_type": "code",
   "execution_count": null,
   "id": "41c874ab",
   "metadata": {},
   "outputs": [],
   "source": [
    "import seaborn as sns"
   ]
  },
  {
   "cell_type": "code",
   "execution_count": null,
   "id": "f0a2af45",
   "metadata": {},
   "outputs": [],
   "source": [
    "heatmap_nospin = np.load('Models/Metrics.npz')\n",
    "heatmap_spin = np.load('Models/Metrics_spin.npz')\n",
    "    \n",
    "js_nospin = heatmap_nospin['js']\n",
    "js_spin = heatmap_spin['js']\n",
    "\n",
    "df_nospin = pd.DataFrame(js_nospin, columns=amp_list, index=amp_list)\n",
    "df_spin = pd.DataFrame(js_spin, columns=amp_list, index=amp_list)"
   ]
  },
  {
   "cell_type": "code",
   "execution_count": null,
   "id": "5e3f138e",
   "metadata": {},
   "outputs": [],
   "source": [
    "fig, ax = plt.subplots(nrows=1, ncols=2, figsize=(16,16))\n",
    "fig.tight_layout()\n",
    "sns.heatmap(ax=ax[0],data=df_nospin,annot=True,fmt=\".2f\",cbar=False,square=True)\n",
    "sns.heatmap(ax=ax[1],data=df_spin,annot=True,fmt=\".2f\",cbar=False,square=True)\n",
    "\n",
    "\n",
    "ax[0].set_title('No Spin model')\n",
    "ax[0].set_ylabel('Training temperature amplitude')\n",
    "ax[0].set_xlabel('Genereting temperature amplitude')\n",
    "\n",
    "\n",
    "ax[1].set_title('Spin model')\n",
    "ax[1].set_ylabel('Training temperature amplitude')\n",
    "ax[1].set_xlabel('Genereting temperature amplitude')\n",
    "\n",
    "plt.savefig('JSheatmaps.png')\n",
    "plt.plot()"
   ]
  },
  {
   "cell_type": "markdown",
   "id": "dcde7545",
   "metadata": {},
   "source": [
    "# Best model \n",
    "As best model we choose the one with the lowest JS divergens value."
   ]
  },
  {
   "cell_type": "code",
   "execution_count": null,
   "id": "a44f3064",
   "metadata": {},
   "outputs": [],
   "source": [
    "N_subset=10 #length of the subset considered\n",
    "\n",
    "#Results are more readable in terms of 0 and 1\n",
    "#if SPINS:\n",
    "#    vf=((vf)+1)//2\n",
    "    \n",
    "#Select the data frame\n",
    "df=pd.DataFrame.sample(pd.DataFrame(vf), N_subset)\n",
    "df = df.reset_index(drop=True)\n",
    "df.columns=['01','02','03', '04', '05', '06', '07', '08', '09',\n",
    "            '10', '11', '12', '13', '14', '15',\n",
    "            '16', '17', '18', '19', '20']\n",
    "\n",
    "\n",
    "\n",
    "#Apply the style to the print\n",
    "t=[i for i in range(N_subset)]\n",
    "df.style.apply(\n",
    "   lambda x: ['background-color: {}'.format(\"#FFAB06\") for i in t], \n",
    "   subset=['01','02','03','04', '09','10','11','12', '17','18','19', '20' ]\n",
    ")\\\n",
    ".hide(axis='index')\\\n",
    ".set_caption('Subset of the generated data, coloured by AAs site')\\\n",
    ".set_properties(**{'font-size': '11pt'})\n",
    "\n"
   ]
  },
  {
   "cell_type": "code",
   "execution_count": null,
   "id": "e84135b5",
   "metadata": {},
   "outputs": [],
   "source": []
  },
  {
   "cell_type": "markdown",
   "id": "965d5d4c",
   "metadata": {},
   "source": [
    "# Hidden variables' weights\n",
    "We plot the weights $w_{i\\mu}$ of each hidden unit $\\mu$ for the best model in an A×G table, with a color map preserving the rule that red means positive and blue means negative weight. A=4 is the number of type of amminoacid allowed in the one-hot encoding. G=5 is number of amminoacid for each protein. Since our best model is obtained in the spin representaion."
   ]
  },
  {
   "cell_type": "markdown",
   "id": "6bafbc3f",
   "metadata": {},
   "source": [
    "## Load model weigths to plot"
   ]
  },
  {
   "cell_type": "code",
   "execution_count": null,
   "id": "89b068ed",
   "metadata": {},
   "outputs": [],
   "source": [
    "file_name='Models/RMSprop_02_1_spin.npz' # the best training so far\n",
    "\n",
    "model = np.load(file_name)        \n",
    "w = model['w']\n",
    "a = model['a']\n",
    "b = model['b']\n",
    "\n",
    "n_ammino = 5\n",
    "n_sub_ammino = 4\n",
    "n_hidden = M "
   ]
  },
  {
   "cell_type": "markdown",
   "id": "7a1ade8d",
   "metadata": {},
   "source": [
    "## One hot encoding"
   ]
  },
  {
   "cell_type": "code",
   "execution_count": null,
   "id": "142ee7f1",
   "metadata": {},
   "outputs": [],
   "source": [
    "vv=np.eye(4)\n",
    "\n",
    "if spin: \n",
    "    vv=vv*2-1\n",
    "\n",
    "vv1,vv2,vv3,vv4=vv[:]\n",
    "print('v1: ',vv2, vv1.shape)"
   ]
  },
  {
   "cell_type": "markdown",
   "id": "a76dc851",
   "metadata": {},
   "source": [
    "## Weights of the best model"
   ]
  },
  {
   "cell_type": "code",
   "execution_count": null,
   "id": "e3884d38",
   "metadata": {},
   "outputs": [],
   "source": [
    "w[:,0] # first hidden unit weigths"
   ]
  },
  {
   "cell_type": "code",
   "execution_count": null,
   "id": "4d624dce",
   "metadata": {},
   "outputs": [],
   "source": [
    "ww=w.reshape((n_ammino,n_sub_ammino, n_hidden)) #reshaped: one matrix for each hidden l, one row for each site,\n",
    "np.dot(ww[:,:,0], v1) # compute per site contribution of each 4 amminoacids types for hidden l=0"
   ]
  },
  {
   "cell_type": "code",
   "execution_count": null,
   "id": "b5426d9c",
   "metadata": {},
   "outputs": [],
   "source": [
    "output=np.zeros((4,5,n_hidden))\n",
    "output_vv=np.zeros((4,5,n_hidden))\n",
    "\n",
    "\n",
    "for h in range(n_hidden):\n",
    "    output[:,:,h]=np.array([np.dot(ww[:,:,h], vv1),\n",
    "                     np.dot(ww[:,:,h], vv2),\n",
    "                     np.dot(ww[:,:,h], vv3),\n",
    "                     np.dot(ww[:,:,h], vv4)])"
   ]
  },
  {
   "cell_type": "code",
   "execution_count": null,
   "id": "eacf7a51",
   "metadata": {},
   "outputs": [],
   "source": [
    "fig, ax = plt.subplots(nrows=1, ncols=n_hidden, figsize=(8,4), dpi=120)\n",
    "fig.tight_layout()\n",
    "\n",
    "for h in range(n_hidden):\n",
    "    c=ax[h].matshow(output[:,:,h], cmap='bwr')\n",
    "    ax[h].set_xlabel('Site contrib for '+str(h))\n",
    "    ax[h].set_ylabel('Amminoacid type')\n",
    "\n",
    "fig.subplots_adjust(right=0.8)\n",
    "cbar_ax = fig.add_axes([0.85, 0.15, 0.05, 0.7])\n",
    "fig.colorbar(c, cax=cbar_ax)\n",
    "\n",
    "# to be used in case of 6 hidden units in the for loop \n",
    "# c=ax[h//3][h%3].matshow(output[:,:,h], cmap='bwr')\n",
    "# ax[h//3][h%3].set_xlabel('Site contrib for '+str(h))\n",
    "# ax[h//3][h%3].set_ylabel('Amminoacid type')"
   ]
  },
  {
   "cell_type": "code",
   "execution_count": null,
   "id": "b2a68575",
   "metadata": {},
   "outputs": [],
   "source": []
  },
  {
   "cell_type": "markdown",
   "id": "467d6e81",
   "metadata": {},
   "source": [
    "# Contrastive Divergence \n",
    "We tune the hyperparameter that controls the contrastive divergence algorithm in order to try to improve the best model obtained from the last section."
   ]
  },
  {
   "cell_type": "markdown",
   "id": "1f78b8e5",
   "metadata": {},
   "source": [
    "### Defining CD parameter"
   ]
  },
  {
   "cell_type": "code",
   "execution_count": null,
   "id": "6681fcd8",
   "metadata": {},
   "outputs": [],
   "source": [
    "cdn  = [2,3]        #set the number of phases\n",
    "amp_training = 0.2  #amp of the best model\n",
    "v = v0"
   ]
  },
  {
   "cell_type": "markdown",
   "id": "01fa6796",
   "metadata": {},
   "source": [
    "### Initialize the Restricted Boltzmann Machine"
   ]
  },
  {
   "cell_type": "code",
   "execution_count": null,
   "id": "91b71e76",
   "metadata": {},
   "outputs": [],
   "source": [
    "# random seed for reproducibility\n",
    "np.random.seed(seed)\n",
    "\n",
    "# learning rate\n",
    "l_rate = 1e-3\n",
    "\n",
    "# minibatch\n",
    "mini_batch = 500\n",
    "\n",
    "# train model\n",
    "print('===================================================')\n",
    "print(amp_training, end=' ')\n",
    "for cd in cdn:\n",
    "    for epoch in range(n_epochs):\n",
    "        # aggregate normalization of batch statistics and learning rate\n",
    "        for k in range(N):\n",
    "            rbm.train(data=v[k],\n",
    "                      learning_rate=l_rate,\n",
    "                      batch_size=mini_batch,\n",
    "                      n_contrastive_div=cd,\n",
    "                      Amp_training=amp_training,\n",
    "                      Algorithm=Algorithm)\n",
    "\n",
    "        # randomize the order of input data\n",
    "        np.random.shuffle(v)\n",
    "        if epoch==n_epochs-1:\n",
    "            plt.matshow(rbm.w.T)\n",
    "            plt.colorbar()\n",
    "            plt.show()\n",
    "\n",
    "        print(epoch, end='')\n",
    "\n",
    "    if spin:\n",
    "        file_name='Models/'+str(Algorithm)+'_'+str(amp_training).replace('.','')+'_'+str(cd)+'_spin'+'.npz'\n",
    "    else:\n",
    "        file_name='Models/'+str(Algorithm)+'_'+str(amp_training).replace('.','')+'_'+str(cd)+'.npz'\n",
    "    rbm.save_model(file_name)\n",
    "\n",
    "    print(' \\t ...Done!')\n"
   ]
  },
  {
   "cell_type": "markdown",
   "id": "6ecd7831",
   "metadata": {},
   "source": [
    "### Checking for improvments with contrastive divergence implementation"
   ]
  },
  {
   "cell_type": "code",
   "execution_count": null,
   "id": "b677c3c0",
   "metadata": {},
   "outputs": [],
   "source": [
    "np.random.seed(seed)\n",
    "rbm_spin = boltzmanmachine(L,M,sigma, vmin=-1, spin=True)\n",
    "rbm_spin.load_model('Models/RMSprop_02_2_spin.npz')\n",
    "\n",
    "vf = rbm_spin.gen_fantasy(v, 0.2)\n",
    "vf = ((vf+1)/2).astype(int)\n",
    "\n",
    "proteins_dataset=convert_to_decimal_protein(vf)\n",
    "p_dataset=return_protein_probabilities(proteins_dataset)\n",
    "print(jensenshannon(p_dataset, Q))"
   ]
  },
  {
   "cell_type": "code",
   "execution_count": null,
   "id": "24503704",
   "metadata": {},
   "outputs": [],
   "source": [
    "np.random.seed(seed)\n",
    "rbm_spin = boltzmanmachine(L,M,sigma, vmin=-1, spin=True)\n",
    "rbm_spin.load_model('Models/RMSprop_02_3_spin.npz')\n",
    "\n",
    "vf = rbm_spin.gen_fantasy(v, 0.2)\n",
    "vf = ((vf+1)/2).astype(int)\n",
    "\n",
    "proteins_dataset=convert_to_decimal_protein(vf)\n",
    "p_dataset=return_protein_probabilities(proteins_dataset)\n",
    "print(jensenshannon(p_dataset, Q))"
   ]
  },
  {
   "cell_type": "code",
   "execution_count": null,
   "id": "ba47b083",
   "metadata": {},
   "outputs": [],
   "source": []
  }
 ],
 "metadata": {
  "kernelspec": {
   "display_name": "Python 3 (ipykernel)",
   "language": "python",
   "name": "python3"
  },
  "language_info": {
   "codemirror_mode": {
    "name": "ipython",
    "version": 3
   },
   "file_extension": ".py",
   "mimetype": "text/x-python",
   "name": "python",
   "nbconvert_exporter": "python",
   "pygments_lexer": "ipython3",
   "version": "3.9.16"
  }
 },
 "nbformat": 4,
 "nbformat_minor": 5
}
