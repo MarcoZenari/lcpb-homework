{
 "cells": [
  {
   "cell_type": "code",
   "execution_count": 1,
   "metadata": {
    "tags": []
   },
   "outputs": [],
   "source": [
    "import numpy as np\n",
    "import matplotlib.pyplot as plt\n",
    "from matplotlib.ticker import NullFormatter\n",
    "import pandas as pd\n",
    "\n",
    "\n",
    "from rBoltzMach import boltzmanmachine\n",
    "from metrics import pair_error, sequence_error, JS_divergence, p\n",
    "from Graphics import distr_ami\n",
    "\n",
    "plt.rcParams['font.size'] = 14"
   ]
  },
  {
   "cell_type": "markdown",
   "metadata": {},
   "source": [
    "## Data selection"
   ]
  },
  {
   "cell_type": "code",
   "execution_count": 2,
   "metadata": {},
   "outputs": [],
   "source": [
    "CASE=1           #select the data to be analysed\n",
    "if CASE==0: dname=\"DATA\"\n",
    "if CASE==1: dname=\"DATA_b\"\n",
    "    \n",
    "fname=dname+'/x_RBM_q0.1.dat'\n",
    "v = np.loadtxt(fname, delimiter=\" \",dtype=int)\n",
    "v0 = np.copy(v)  #Copy original data to analyse later"
   ]
  },
  {
   "cell_type": "code",
   "execution_count": 3,
   "metadata": {},
   "outputs": [
    {
     "name": "stdout",
     "output_type": "stream",
     "text": [
      "9.457500000000001 22.6\n"
     ]
    }
   ],
   "source": [
    "perror = pair_error(v0, spin=False)\n",
    "serror = sequence_error(v0, spin=False, vmin=0)\n",
    "print(perror, serror)\n"
   ]
  },
  {
   "cell_type": "markdown",
   "metadata": {},
   "source": [
    "## Network parameters"
   ]
  },
  {
   "cell_type": "code",
   "execution_count": 4,
   "metadata": {},
   "outputs": [
    {
     "name": "stdout",
     "output_type": "stream",
     "text": [
      "each of N=10000 data has L=20 digits\n",
      "The network has 20 visible units and 6 hidden units\n",
      "Initializing std 0.3922322702763681\n"
     ]
    }
   ],
   "source": [
    "N = len(v)       #Number of rows\n",
    "L = len(v[0])    #Set the number of visible variable\n",
    "M = 6            #Set the number of hidden units\n",
    "\n",
    "sigma = np.sqrt(4. / float(L + M))\n",
    "\n",
    "print(f'each of N={N} data has L={L} digits')\n",
    "print(f'The network has {L} visible units and {M} hidden units')\n",
    "print(f'Initializing std {sigma}')"
   ]
  },
  {
   "cell_type": "markdown",
   "metadata": {},
   "source": [
    "## Load the Restricted Boltzmann Machine model "
   ]
  },
  {
   "cell_type": "code",
   "execution_count": 5,
   "metadata": {},
   "outputs": [],
   "source": [
    "file_name = 'Models/'+'RMSprop_005_1_spin.npz'\n",
    "# np.random.seed(seed)\n",
    "rbm = boltzmanmachine(L,M,sigma)\n",
    "rbm.load_model(file_name)"
   ]
  },
  {
   "cell_type": "markdown",
   "metadata": {},
   "source": [
    "## Generating fantasy data in order to test the model"
   ]
  },
  {
   "cell_type": "code",
   "execution_count": 6,
   "metadata": {},
   "outputs": [],
   "source": [
    "Amp_gen = 0.5 #Setting the amplitude for generating data\n",
    "vf = rbm.gen_fantasy(v0, Amp_gen)"
   ]
  },
  {
   "cell_type": "markdown",
   "metadata": {},
   "source": [
    "## Evaluating Pair-wise errors, Sequence error, Jensen-Shannon Divergence"
   ]
  },
  {
   "cell_type": "markdown",
   "metadata": {},
   "source": [
    "### Estimating the errors on the training dataset"
   ]
  },
  {
   "cell_type": "code",
   "execution_count": 7,
   "metadata": {},
   "outputs": [
    {
     "name": "stdout",
     "output_type": "stream",
     "text": [
      "v0 pair-wise error = 0.4075 \n",
      "v0 sequence error = 0.81 \n"
     ]
    }
   ],
   "source": [
    "perror0 = pair_error(vf, spin=True)\n",
    "serror0 = sequence_error(vf, spin=True, vmin=-1)\n",
    "print(f'v0 pair-wise error = {perror0} ')\n",
    "print(f'v0 sequence error = {serror0} ')"
   ]
  },
  {
   "cell_type": "code",
   "execution_count": 8,
   "metadata": {},
   "outputs": [],
   "source": [
    "p = np.reshape(p(vf), (5,4))  #matrix that contain the instances of every possible state for each amminoacid\n",
    "q = np.ones((5,4))*0.25       #target states distribution"
   ]
  },
  {
   "cell_type": "code",
   "execution_count": 9,
   "metadata": {},
   "outputs": [
    {
     "name": "stdout",
     "output_type": "stream",
     "text": [
      "[[0.1952 0.3149 0.4474 0.0425]\n",
      " [0.4806 0.0159 0.0766 0.4269]\n",
      " [0.4916 0.015  0.0562 0.4372]\n",
      " [0.484  0.0099 0.0248 0.4813]\n",
      " [0.0064 0.502  0.0202 0.4714]]\n",
      "[[0.25 0.25 0.25 0.25]\n",
      " [0.25 0.25 0.25 0.25]\n",
      " [0.25 0.25 0.25 0.25]\n",
      " [0.25 0.25 0.25 0.25]\n",
      " [0.25 0.25 0.25 0.25]]\n"
     ]
    }
   ],
   "source": [
    "print(p)\n",
    "print(q)"
   ]
  },
  {
   "cell_type": "markdown",
   "metadata": {},
   "source": [
    "### Estimating the differences between the states distribution via JS divergence"
   ]
  },
  {
   "cell_type": "code",
   "execution_count": 10,
   "metadata": {},
   "outputs": [
    {
     "data": {
      "text/plain": [
       "0.6347251957867277"
      ]
     },
     "execution_count": 10,
     "metadata": {},
     "output_type": "execute_result"
    }
   ],
   "source": [
    "JS_divergence(p,q)"
   ]
  },
  {
   "cell_type": "code",
   "execution_count": 11,
   "metadata": {},
   "outputs": [
    {
     "data": {
      "image/png": "[encoded data removed]",
      "text/plain": [
       "<Figure size 432x288 with 1 Axes>"
      ]
     },
     "metadata": {
      "needs_background": "light"
     },
     "output_type": "display_data"
    }
   ],
   "source": [
    "distr_ami(vf, 'test.png')"
   ]
  }
 ],
 "metadata": {
  "kernelspec": {
   "display_name": "Python 3",
   "language": "python",
   "name": "python3"
  },
  "language_info": {
   "codemirror_mode": {
    "name": "ipython",
    "version": 3
   },
   "file_extension": ".py",
   "mimetype": "text/x-python",
   "name": "python",
   "nbconvert_exporter": "python",
   "pygments_lexer": "ipython3",
   "version": "3.8.8"
  }
 },
 "nbformat": 4,
 "nbformat_minor": 4
}
